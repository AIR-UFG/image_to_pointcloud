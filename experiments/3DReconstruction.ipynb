{
 "cells": [
  {
   "cell_type": "markdown",
   "id": "e32dab54-d76b-46f7-91af-e7d697993d86",
   "metadata": {
    "jp-MarkdownHeadingCollapsed": true
   },
   "source": [
    "### Projeção Esférica"
   ]
  },
  {
   "cell_type": "code",
   "execution_count": null,
   "id": "2ba06e9e-a684-4f13-9efe-9f870ae2e460",
   "metadata": {},
   "outputs": [],
   "source": [
    "import numpy as np\n",
    "import open3d as o3d\n",
    "import os"
   ]
  },
  {
   "cell_type": "markdown",
   "id": "8e123fda-acbe-400f-ae93-f14ac835e7d4",
   "metadata": {},
   "source": [
    "Projeção apenas do canal de profundidade."
   ]
  },
  {
   "cell_type": "code",
   "execution_count": null,
   "id": "21d14f14-3d25-4f68-a3bd-9ae920916dd1",
   "metadata": {},
   "outputs": [],
   "source": [
    "def spherical_projection(point_cloud, proj_fov_up, proj_fov_down, proj_W, proj_H):\n",
    "    fov_up = proj_fov_up / 180.0 * np.pi     \n",
    "    fov_down = proj_fov_down / 180.0 * np.pi  \n",
    "    fov = abs(fov_down) + abs(fov_up)         \n",
    "\n",
    "    point_cloud = point_cloud[~np.isnan(point_cloud).any(axis=1)]\n",
    "    \n",
    "    # get point_cloud components\n",
    "    scan_x = point_cloud[:, 0]\n",
    "    scan_y = point_cloud[:, 1]\n",
    "    scan_z = point_cloud[:, 2]\n",
    "\n",
    "    # depth\n",
    "    R = np.sqrt(scan_x**2 + scan_y**2 + scan_z**2)\n",
    "    \n",
    "    # get angles of all points\n",
    "    yaw = -np.arctan2(scan_y, scan_x)\n",
    "    pitch = np.arcsin(scan_z / R)\n",
    "\n",
    "    # get projections in image coords\n",
    "    proj_x = 0.5 * (yaw / np.pi + 1.0)                  # in [0.0, 1.0]\n",
    "    proj_y = 1.0 - (pitch + abs(fov_down)) / fov        # in [0.0, 1.0]\n",
    "\n",
    "    # scale to image size using angular resolution\n",
    "    proj_x *= proj_W                                    # in [0.0, W]\n",
    "    proj_y *= proj_H                                    # in [0.0, H]\n",
    "\n",
    "    # round and clamp for use as index\n",
    "    proj_x = np.floor(proj_x)\n",
    "    proj_x = np.minimum(proj_W - 1, proj_x)\n",
    "    proj_x = np.maximum(0, proj_x).astype(np.int32)     # in [0,W-1]\n",
    "\n",
    "    proj_y = np.floor(proj_y)\n",
    "    proj_y = np.minimum(proj_H - 1, proj_y)\n",
    "    proj_y = np.maximum(0, proj_y).astype(np.int32)     # in [0,H-1]\n",
    "\n",
    "    # depth matrix\n",
    "    image_matrix_depth = np.zeros((proj_H, proj_W))\n",
    "    for x, y, i in zip(proj_x, proj_y, R):\n",
    "        image_matrix_depth[y, x] = i\n",
    "            \n",
    "    return image_matrix_depth"
   ]
  },
  {
   "cell_type": "markdown",
   "id": "2b40e3d5-2ea9-4e5a-a4cf-a1c0ddbf6c00",
   "metadata": {},
   "source": [
    "Carregando o bin 01 do semantic KITTI "
   ]
  },
  {
   "cell_type": "code",
   "execution_count": null,
   "id": "3c4182f5-815f-41ee-b27d-2595f91acdb7",
   "metadata": {},
   "outputs": [],
   "source": [
    "frame_path = \"../sample_data/000001.bin\"\n",
    "with open(frame_path, 'rb') as f:\n",
    "    frame = np.fromfile(f, dtype=np.float32).reshape(-1, 4)\n",
    "\n",
    "frame.shape"
   ]
  },
  {
   "cell_type": "markdown",
   "id": "11b22df4-121e-457f-8b87-1c31cba1168f",
   "metadata": {},
   "source": [
    "Projeção Esférica"
   ]
  },
  {
   "cell_type": "code",
   "execution_count": null,
   "id": "ff30a6c6-dbf0-4fae-ae17-d79f62242171",
   "metadata": {},
   "outputs": [],
   "source": [
    "depth = spherical_projection(point_cloud=frame, proj_fov_up=3.0, proj_fov_down=-25.0, proj_W=1024, proj_H=64)"
   ]
  },
  {
   "cell_type": "markdown",
   "id": "4054a16e-3c05-4749-b59c-8e2d08410f3f",
   "metadata": {},
   "source": [
    "Vizualizando a imagem"
   ]
  },
  {
   "cell_type": "code",
   "execution_count": null,
   "id": "f43acc74-38e9-427f-8094-46ed0150f21e",
   "metadata": {},
   "outputs": [],
   "source": [
    "from PIL import Image\n",
    "\n",
    "min_value = 0.\n",
    "max_value = 100.\n",
    "\n",
    "# normalizando para pixels\n",
    "depth_normalized = depth.clip(min_value, max_value)\n",
    "depth_normalized = (255.*(depth_normalized - min_value)/(max_value - min_value)).astype(np.uint8)\n",
    "\n",
    "image = Image.fromarray(depth_normalized)\n",
    "image.show()"
   ]
  },
  {
   "cell_type": "markdown",
   "id": "dc1ae13c-e461-4e7c-9c5e-53f39a08294e",
   "metadata": {
    "jp-MarkdownHeadingCollapsed": true
   },
   "source": [
    "### Retornando para 3D"
   ]
  },
  {
   "cell_type": "code",
   "execution_count": null,
   "id": "f248e358-6c1e-4737-9132-867b87845897",
   "metadata": {},
   "outputs": [],
   "source": [
    "def imageto_point_cloud(image, proj_fov_up=3.0, proj_fov_down=-25.0):\n",
    "    proj_H, proj_W,  = image.shape\n",
    "\n",
    "    fov_up = proj_fov_up / 180.0 * np.pi\n",
    "    fov_down = proj_fov_down / 180.0 * np.pi\n",
    "\n",
    "    point_cloud = []\n",
    "    for i in range(proj_H):\n",
    "        for j in range(proj_W):\n",
    "            pitch = (1 - i/proj_H) * (fov_up + abs(fov_down)) - abs(fov_down)\n",
    "            yaw = ((j / proj_W) * np.pi * 2) - np.pi\n",
    "            depth = image[i][j]\n",
    "\n",
    "            x = depth * np.cos(yaw)\n",
    "            y = -depth * np.sin(yaw)\n",
    "            z = depth * np.sin(pitch)\n",
    "            point_cloud.append([x,y,z])\n",
    "\n",
    "    point_cloud = np.array(point_cloud)\n",
    "    return point_cloud"
   ]
  },
  {
   "cell_type": "code",
   "execution_count": null,
   "id": "0f7e0ed8-33ed-4ab8-b5cf-ace4b0af517f",
   "metadata": {},
   "outputs": [],
   "source": [
    "def show_point_cloud(data1, data2=None, compare=False):\n",
    "    pcd1 = o3d.geometry.PointCloud()\n",
    "    pcd1.points = o3d.utility.Vector3dVector(data1)\n",
    "\n",
    "    if compare:\n",
    "        pcd2 = o3d.geometry.PointCloud()\n",
    "        pcd2.points = o3d.utility.Vector3dVector(data2)\n",
    "\n",
    "        pcd1.paint_uniform_color([1, 0.5, 0])\n",
    "        pcd2.paint_uniform_color([0, 0.5, 1]) \n",
    "\n",
    "    vis = o3d.visualization.Visualizer()\n",
    "    vis.create_window()\n",
    "    vis.add_geometry(pcd1)\n",
    "    if compare:\n",
    "        vis.add_geometry(pcd2)\n",
    "\n",
    "    vis.get_render_option().point_size = 3  \n",
    "    vis.run()\n",
    "    vis.destroy_window()"
   ]
  },
  {
   "cell_type": "markdown",
   "id": "54da6098-db30-4b38-84b0-f8ea51ce02e8",
   "metadata": {},
   "source": [
    "Sequência 01 reconstruída antes de reverter a normalização"
   ]
  },
  {
   "cell_type": "code",
   "execution_count": null,
   "id": "ce1940fc-ad3a-4abc-8078-c5043fccf82f",
   "metadata": {},
   "outputs": [],
   "source": [
    "show_point_cloud(imageto_point_cloud(image=depth_normalized))"
   ]
  },
  {
   "cell_type": "markdown",
   "id": "31ba3118-c31e-4d5e-b71b-701b2534dd0b",
   "metadata": {},
   "source": [
    "Importante lembrar que as imagens estão entre 0 e 255, então precisa fazer o processo inverso da normalização."
   ]
  },
  {
   "cell_type": "code",
   "execution_count": null,
   "id": "fc4b9819-1be2-40fa-9fc2-574143d851b0",
   "metadata": {},
   "outputs": [],
   "source": [
    "min_value = 0\n",
    "max_value = 100\n",
    "\n",
    "depth_original = depth_normalized / 255.0 * (max_value - min_value) + min_value\n",
    "point_cloud = imageto_point_cloud(image=depth_original)\n",
    "point_cloud.shape"
   ]
  },
  {
   "cell_type": "markdown",
   "id": "3ab00dc4-722c-412a-ba9a-d9bf3f184e9b",
   "metadata": {},
   "source": [
    "Sequência 01 reconstruída"
   ]
  },
  {
   "cell_type": "code",
   "execution_count": null,
   "id": "58e99639-ecc3-4fbe-b615-7d964a28991f",
   "metadata": {},
   "outputs": [],
   "source": [
    "show_point_cloud(point_cloud)"
   ]
  },
  {
   "cell_type": "markdown",
   "id": "54fa415f-c3d9-4946-ba79-592d337d06ee",
   "metadata": {},
   "source": [
    "Sequência 01 reconstruída vs original"
   ]
  },
  {
   "cell_type": "code",
   "execution_count": null,
   "id": "a58d4f98-6912-402b-8d3b-ba5433e1a674",
   "metadata": {},
   "outputs": [],
   "source": [
    "show_point_cloud(point_cloud, frame[:,0:3], compare=True)"
   ]
  },
  {
   "cell_type": "markdown",
   "id": "6b821d2a-6e6c-4086-99d7-ba7c8453b407",
   "metadata": {
    "jp-MarkdownHeadingCollapsed": true
   },
   "source": [
    "### UFG Dataset"
   ]
  },
  {
   "cell_type": "code",
   "execution_count": null,
   "id": "7f8f6660-0fb9-436f-b708-b333a6427956",
   "metadata": {},
   "outputs": [],
   "source": [
    "from PIL import Image\n",
    "\n",
    "sample_image_path = \"../sample_data/01_frame_001870_depth_img_3_out.png\"\n",
    "image = Image.open(sample_image_path)\n",
    "image_array = np.array(image)\n",
    "print(image_array.shape)\n",
    "print(image_array.min(), image_array.max())\n",
    "image"
   ]
  },
  {
   "cell_type": "code",
   "execution_count": null,
   "id": "a7012c97-7c86-40cf-a27e-09c8c747d324",
   "metadata": {},
   "outputs": [],
   "source": [
    "min_value = 0\n",
    "max_value = 100\n",
    "\n",
    "depth_original = image_array / 255.0 * (max_value - min_value) + min_value\n",
    "point_cloud = imageto_point_cloud(image=depth_original, proj_fov_up=15.0, proj_fov_down=-15.0)\n",
    "point_cloud.shape"
   ]
  },
  {
   "cell_type": "code",
   "execution_count": null,
   "id": "d5d76cff-5f5e-4cdd-b140-f839859bbb1c",
   "metadata": {},
   "outputs": [],
   "source": [
    "show_point_cloud(point_cloud)"
   ]
  },
  {
   "cell_type": "markdown",
   "id": "ef6d79a8-a256-4e94-98f1-284e8050a8f3",
   "metadata": {
    "jp-MarkdownHeadingCollapsed": true
   },
   "source": [
    "### Bin Original"
   ]
  },
  {
   "attachments": {
    "30fa865d-4fdc-45ba-8f8a-14f9ad9599fd.png": {
     "image/png": "[encoded data removed]"
    }
   },
   "cell_type": "markdown",
   "id": "233f077f-b2f0-404c-a5e3-bd67e5b56d63",
   "metadata": {},
   "source": [
    "![image.png](attachment:30fa865d-4fdc-45ba-8f8a-14f9ad9599fd.png)"
   ]
  },
  {
   "cell_type": "code",
   "execution_count": null,
   "id": "3560282e-3e60-407b-b717-57a0fc992d3e",
   "metadata": {},
   "outputs": [],
   "source": [
    "frame_path = \"../sample_data//1870.bin\"\n",
    "with open(frame_path, 'rb') as f:\n",
    "    frame = np.fromfile(f, dtype=np.float32).reshape(-1, 4)\n",
    "\n",
    "frame.shape"
   ]
  },
  {
   "cell_type": "code",
   "execution_count": null,
   "id": "8d730d15-9926-4e64-931e-c993fd3230e9",
   "metadata": {},
   "outputs": [],
   "source": [
    "depth = spherical_projection(point_cloud=frame, proj_fov_up=15.0, proj_fov_down=-15.0, proj_W=1024, proj_H=16)"
   ]
  },
  {
   "cell_type": "code",
   "execution_count": null,
   "id": "dc74aade-ff60-4e18-868a-1ebaf4860dcb",
   "metadata": {},
   "outputs": [],
   "source": [
    "from PIL import Image\n",
    "\n",
    "min_value = 0.\n",
    "max_value = 100.\n",
    "\n",
    "# normalizando para pixels\n",
    "depth_normalized = depth.clip(min_value, max_value)\n",
    "depth_normalized = (255.*(depth_normalized - min_value)/(max_value - min_value)).astype(np.uint8)\n",
    "\n",
    "image = Image.fromarray(depth_normalized)\n",
    "image.show()"
   ]
  },
  {
   "cell_type": "code",
   "execution_count": null,
   "id": "efe926f0-984f-46a5-a0dd-3761aa46a279",
   "metadata": {},
   "outputs": [],
   "source": [
    "min_value = 0\n",
    "max_value = 100\n",
    "\n",
    "depth_original = depth_normalized / 255.0 * (max_value - min_value) + min_value\n",
    "point_cloud = imageto_point_cloud(image=depth_original)\n",
    "point_cloud.shape"
   ]
  },
  {
   "cell_type": "code",
   "execution_count": null,
   "id": "8ec8ffa6-3e3b-450d-921e-d1e0d4b72609",
   "metadata": {},
   "outputs": [],
   "source": [
    "show_point_cloud(point_cloud)"
   ]
  },
  {
   "cell_type": "code",
   "execution_count": null,
   "id": "e7ac26db-1ace-48dc-af40-fb3c38334be8",
   "metadata": {},
   "outputs": [],
   "source": [
    "show_point_cloud(point_cloud, frame[:,0:3], compare=True)"
   ]
  }
 ],
 "metadata": {
  "kernelspec": {
   "display_name": "Python 3 (ipykernel)",
   "language": "python",
   "name": "python3"
  },
  "language_info": {
   "codemirror_mode": {
    "name": "ipython",
    "version": 3
   },
   "file_extension": ".py",
   "mimetype": "text/x-python",
   "name": "python",
   "nbconvert_exporter": "python",
   "pygments_lexer": "ipython3",
   "version": "3.10.12"
  }
 },
 "nbformat": 4,
 "nbformat_minor": 5
}
